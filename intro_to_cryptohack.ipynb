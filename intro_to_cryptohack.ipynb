{
  "nbformat": 4,
  "nbformat_minor": 0,
  "metadata": {
    "colab": {
      "provenance": [],
      "authorship_tag": "ABX9TyML8pnD56dYjRQDJe9QI/iN",
      "include_colab_link": true
    },
    "kernelspec": {
      "name": "python3",
      "display_name": "Python 3"
    },
    "language_info": {
      "name": "python"
    }
  },
  "cells": [
    {
      "cell_type": "markdown",
      "metadata": {
        "id": "view-in-github",
        "colab_type": "text"
      },
      "source": [
        "<a href=\"https://colab.research.google.com/github/olivemideva/python_scripts/blob/main/intro_to_cryptohack.ipynb\" target=\"_parent\"><img src=\"https://colab.research.google.com/assets/colab-badge.svg\" alt=\"Open In Colab\"/></a>"
      ]
    },
    {
      "cell_type": "code",
      "execution_count": null,
      "metadata": {
        "colab": {
          "base_uri": "https://localhost:8080/"
        },
        "id": "wbzuiBjznhsf",
        "outputId": "74dec9af-1eed-4a47-a514-2faf56029ef1"
      },
      "outputs": [
        {
          "output_type": "stream",
          "name": "stdout",
          "text": [
            "Here is your flag:\n",
            "crypto{z3n_0f_pyth0n}\n"
          ]
        }
      ],
      "source": [
        "#!/usr/bin/env python3\n",
        "\n",
        "import sys\n",
        "# import this\n",
        "\n",
        "if sys.version_info.major == 2:\n",
        "    print(\"You are running Python 2, which is no longer supported. Please update to Python 3.\")\n",
        "\n",
        "ords = [81, 64, 75, 66, 70, 93, 73, 72, 1, 92, 109, 2, 84, 109, 66, 75, 70, 90, 2, 92, 79]\n",
        "\n",
        "print(\"Here is your flag:\")\n",
        "print(\"\".join(chr(o ^ 0x32) for o in ords))"
      ]
    },
    {
      "cell_type": "code",
      "source": [
        "#convert ASCII ordinal number to corresponding characters\n",
        "\n",
        "charlist = [99, 114, 121, 112, 116, 111, 123, 65, 83, 67, 73, 73, 95, 112, 114, 49, 110, 116, 52, 98, 108, 51, 125]\n",
        "mystring = \"\"\n",
        "for char in charlist:\n",
        "  mystring = mystring+chr(char)\n",
        "\n",
        "print(\"The ASCII value of given characters are\", mystring)"
      ],
      "metadata": {
        "colab": {
          "base_uri": "https://localhost:8080/"
        },
        "id": "IVcXIRYsoi6W",
        "outputId": "e592d5ab-d222-43df-a561-5ca9e4753708"
      },
      "execution_count": null,
      "outputs": [
        {
          "output_type": "stream",
          "name": "stdout",
          "text": [
            "The ASCII value of given characters are crypto{ASCII_pr1nt4bl3}\n"
          ]
        }
      ]
    },
    {
      "cell_type": "code",
      "source": [
        "#convert hex to bytes\n",
        "\n",
        "hexstring = '63727970746f7b596f755f77696c6c5f62655f776f726b696e675f776974685f6865785f737472696e67735f615f6c6f747d' \n",
        "\n",
        "print(\"The bytes format of the hex string is\", bytes.fromhex(hexstring))"
      ],
      "metadata": {
        "colab": {
          "base_uri": "https://localhost:8080/"
        },
        "id": "aFy9rjihq8By",
        "outputId": "741c179d-3e15-434a-9fc8-2fa8d2bc59a7"
      },
      "execution_count": null,
      "outputs": [
        {
          "output_type": "stream",
          "name": "stdout",
          "text": [
            "The bytes format of the hex string is b'crypto{You_will_be_working_with_hex_strings_a_lot}'\n"
          ]
        }
      ]
    },
    {
      "cell_type": "code",
      "source": [
        "#decode to bytes\n",
        "\n",
        "myhexstring = '72bca9b68fc16ac7beeb8f849dca1d8a783e8acf9679bf9269f7bf'\n",
        "bytesstring = bytes.fromhex(myhexstring)\n",
        "\n",
        "#encode bytes to Base64\n",
        "import base64\n",
        "\n",
        "print(\"The Base64 format is\", base64.b64encode(bytesstring))"
      ],
      "metadata": {
        "colab": {
          "base_uri": "https://localhost:8080/"
        },
        "id": "fY1MvMfmt4uq",
        "outputId": "1c2af439-35b6-4783-f6fb-dc9f9509dac0"
      },
      "execution_count": null,
      "outputs": [
        {
          "output_type": "stream",
          "name": "stdout",
          "text": [
            "The Base64 format is b'crypto/Base+64+Encoding+is+Web+Safe/'\n"
          ]
        }
      ]
    },
    {
      "cell_type": "code",
      "source": [
        "!pip install PyCryptodome"
      ],
      "metadata": {
        "colab": {
          "base_uri": "https://localhost:8080/"
        },
        "id": "ep4dwca42vRS",
        "outputId": "21710a3a-bbbb-446e-dc75-d6f054413861"
      },
      "execution_count": null,
      "outputs": [
        {
          "output_type": "stream",
          "name": "stdout",
          "text": [
            "Looking in indexes: https://pypi.org/simple, https://us-python.pkg.dev/colab-wheels/public/simple/\n",
            "Collecting PyCryptodome\n",
            "  Downloading pycryptodome-3.16.0-cp35-abi3-manylinux_2_5_x86_64.manylinux1_x86_64.manylinux_2_12_x86_64.manylinux2010_x86_64.whl (2.3 MB)\n",
            "\u001b[K     |████████████████████████████████| 2.3 MB 7.3 MB/s \n",
            "\u001b[?25hInstalling collected packages: PyCryptodome\n",
            "Successfully installed PyCryptodome-3.16.0\n"
          ]
        }
      ]
    },
    {
      "cell_type": "code",
      "source": [
        "#convert the folowing string back to its original message\n",
        "from Crypto.Util.number import *\n",
        "\n",
        "mymessagestring = 11515195063862318899931685488813747395775516287289682636499965282714637259206269\n",
        "data = long_to_bytes(mymessagestring)\n",
        "print(\"The message is \", data)"
      ],
      "metadata": {
        "colab": {
          "base_uri": "https://localhost:8080/"
        },
        "id": "kDekaOgB0m59",
        "outputId": "b969a3ed-a423-4b77-be9c-bac702cb7cb7"
      },
      "execution_count": null,
      "outputs": [
        {
          "output_type": "stream",
          "name": "stdout",
          "text": [
            "The message is  b'crypto{3nc0d1n6_4ll_7h3_w4y_d0wn}'\n"
          ]
        }
      ]
    },
    {
      "cell_type": "code",
      "source": [
        "# XOR data of different types and lengths\n",
        "mydata = 'label'\n",
        "flag = ''\n",
        "\n",
        "for c in mydata:\n",
        "  flag += chr(ord(c) ^ 13)\n",
        "\n",
        "  print('crypto{{{}}}'.format(flag))"
      ],
      "metadata": {
        "colab": {
          "base_uri": "https://localhost:8080/"
        },
        "id": "efld55EVQIQX",
        "outputId": "fce8c709-7789-4d3a-aba2-24da2218c7d6"
      },
      "execution_count": null,
      "outputs": [
        {
          "output_type": "stream",
          "name": "stdout",
          "text": [
            "crypto{a}\n",
            "crypto{al}\n",
            "crypto{alo}\n",
            "crypto{aloh}\n",
            "crypto{aloha}\n"
          ]
        }
      ]
    },
    {
      "cell_type": "code",
      "source": [
        "# Undo XOR encryption\n",
        "#  Before you XOR these objects, be sure to decode from hex to bytes.\n",
        "from binascii import unhexlify\n",
        "\n",
        "def xor_two_str(s1,s2):\n",
        "    if len(s1) != len(s2):\n",
        "        raise \"XOR EXCEPTION: Strings are not of equal length!\"\n",
        "\n",
        "    return ''.join(format(int(a, 16) ^ int(b, 16), 'x') for a,b in zip(s1,s2))\n",
        "\n",
        "\n",
        "KEY1 = \"a6c8b6733c9b22de7bc0253266a3867df55acde8635e19c73313\"\n",
        "\n",
        "KEY2 = xor_two_str(\"37dcb292030faa90d07eec17e3b1c6d8daf94c35d4c9191a5e1e\", KEY1)\n",
        "\n",
        "KEY3 = xor_two_str(\"c1545756687e7573db23aa1c3452a098b71a7fbf0fddddde5fc1\", KEY2)\n",
        "\n",
        "KEY4 = xor_two_str(xor_two_str(KEY1, KEY2), KEY3)\n",
        "\n",
        "FLAG = xor_two_str(\"04ee9855208a2cd59091d04767ae47963170d1660df7f56f5faf\", KEY4)\n",
        "print(\"The flag is {}\".format(unhexlify(FLAG)))"
      ],
      "metadata": {
        "colab": {
          "base_uri": "https://localhost:8080/"
        },
        "id": "WPzhqqFGTmRL",
        "outputId": "2e64f750-e2a5-4ca6-cfa9-7906ad7bd69f"
      },
      "execution_count": null,
      "outputs": [
        {
          "output_type": "stream",
          "name": "stdout",
          "text": [
            "The flag is b'crypto{x0r_i5_ass0c1at1v3}'\n"
          ]
        }
      ]
    },
    {
      "cell_type": "code",
      "source": [
        "# deconde from hex then XOR to decode\n",
        "from binascii import unhexlify\n",
        "import string\n",
        "\n",
        "def single_byte_xor(input, key):\n",
        "    if len(chr(key)) != 1:\n",
        "      raise \"KEY LENGTH EXCEPTION: In single_byte_xor key must be 1 byte long!\"\n",
        "\n",
        "    output = b''\n",
        "    for b in input:\n",
        "        output += bytes([b ^ key])\n",
        "\n",
        "    try:\n",
        "        return output.decode(\"utf-8\")\n",
        "    except:\n",
        "        return \"Cannot Decode some bytes\"\n",
        "\n",
        "data = \"73626960647f6b206821204f21254f7d694f7624662065622127234f726927756d\"\n",
        "decoded = unhexlify(data)\n",
        "\n",
        "result = {}\n",
        "for i in range(256):\n",
        "    result[i] = (single_byte_xor(decoded, i))\n",
        "\n",
        "print(\"The flag is : {}\".format([s for s in result.values() if \"crypto\" in s]))"
      ],
      "metadata": {
        "colab": {
          "base_uri": "https://localhost:8080/"
        },
        "id": "ZlasM_L3VCrn",
        "outputId": "eed4ea50-9257-4822-f175-73583c39bb87"
      },
      "execution_count": null,
      "outputs": [
        {
          "output_type": "stream",
          "name": "stdout",
          "text": [
            "The flag is : ['crypto{0x10_15_my_f4v0ur173_by7e}']\n"
          ]
        }
      ]
    },
    {
      "cell_type": "code",
      "source": [
        "# Decrypt the flag which was encrypted with secret key\n",
        "from binascii import unhexlify\n",
        "\n",
        "def brute(input, key):\n",
        "    if len(input) != len(key):\n",
        "        return \"Failed!\"\n",
        "\n",
        "    output = b''\n",
        "    for b1, b2 in zip(input, key):\n",
        "        output += bytes([b1 ^ b2])\n",
        "    try:\n",
        "        return output.decode(\"utf-8\")\n",
        "    except:\n",
        "        return \"Cannot Decode some bytes\"\n",
        "\n",
        "data = \"0e0b213f26041e480b26217f27342e175d0e070a3c5b103e2526217f27342e175d0e077e263451150104\"\n",
        "cipher = unhexlify(data)\n",
        "\n",
        "# First Step\n",
        "key_part = brute(cipher[:7], \"crypto{\".encode())\n",
        "\n",
        "# Second Step\n",
        "key = (key_part + \"y\").encode()\n",
        "key += key * int((len(cipher) - len(key))/len(key))\n",
        "key += key[:((len(cipher) - len(key))%len(key))]\n",
        "\n",
        "plain = brute(cipher, key)\n",
        "print(\"The flag is : {}\".format(plain))"
      ],
      "metadata": {
        "colab": {
          "base_uri": "https://localhost:8080/"
        },
        "id": "PLjCtQJwXO52",
        "outputId": "9f2f2f21-ddc9-4fdb-fa09-185808f75cac"
      },
      "execution_count": null,
      "outputs": [
        {
          "output_type": "stream",
          "name": "stdout",
          "text": [
            "The flag is : crypto{1f_y0u_Kn0w_En0uGH_y0u_Kn0w_1t_4ll}\n"
          ]
        }
      ]
    }
  ]
}