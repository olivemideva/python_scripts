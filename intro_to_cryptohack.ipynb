{
  "nbformat": 4,
  "nbformat_minor": 0,
  "metadata": {
    "colab": {
      "provenance": [],
      "authorship_tag": "ABX9TyOqt02VDkSTfUA5nrJvePl4",
      "include_colab_link": true
    },
    "kernelspec": {
      "name": "python3",
      "display_name": "Python 3"
    },
    "language_info": {
      "name": "python"
    }
  },
  "cells": [
    {
      "cell_type": "markdown",
      "metadata": {
        "id": "view-in-github",
        "colab_type": "text"
      },
      "source": [
        "<a href=\"https://colab.research.google.com/github/olivemideva/python_scripts/blob/main/intro_to_cryptohack.ipynb\" target=\"_parent\"><img src=\"https://colab.research.google.com/assets/colab-badge.svg\" alt=\"Open In Colab\"/></a>"
      ]
    },
    {
      "cell_type": "code",
      "execution_count": 1,
      "metadata": {
        "colab": {
          "base_uri": "https://localhost:8080/"
        },
        "id": "wbzuiBjznhsf",
        "outputId": "74dec9af-1eed-4a47-a514-2faf56029ef1"
      },
      "outputs": [
        {
          "output_type": "stream",
          "name": "stdout",
          "text": [
            "Here is your flag:\n",
            "crypto{z3n_0f_pyth0n}\n"
          ]
        }
      ],
      "source": [
        "#!/usr/bin/env python3\n",
        "\n",
        "import sys\n",
        "# import this\n",
        "\n",
        "if sys.version_info.major == 2:\n",
        "    print(\"You are running Python 2, which is no longer supported. Please update to Python 3.\")\n",
        "\n",
        "ords = [81, 64, 75, 66, 70, 93, 73, 72, 1, 92, 109, 2, 84, 109, 66, 75, 70, 90, 2, 92, 79]\n",
        "\n",
        "print(\"Here is your flag:\")\n",
        "print(\"\".join(chr(o ^ 0x32) for o in ords))"
      ]
    },
    {
      "cell_type": "code",
      "source": [
        "#convert ASCII ordinal number to corresponding characters\n",
        "\n",
        "charlist = [99, 114, 121, 112, 116, 111, 123, 65, 83, 67, 73, 73, 95, 112, 114, 49, 110, 116, 52, 98, 108, 51, 125]\n",
        "mystring = \"\"\n",
        "for char in charlist:\n",
        "  mystring = mystring+chr(char)\n",
        "\n",
        "print(\"The ASCII value of given characters are\", mystring)"
      ],
      "metadata": {
        "colab": {
          "base_uri": "https://localhost:8080/"
        },
        "id": "IVcXIRYsoi6W",
        "outputId": "e592d5ab-d222-43df-a561-5ca9e4753708"
      },
      "execution_count": 3,
      "outputs": [
        {
          "output_type": "stream",
          "name": "stdout",
          "text": [
            "The ASCII value of given characters are crypto{ASCII_pr1nt4bl3}\n"
          ]
        }
      ]
    },
    {
      "cell_type": "code",
      "source": [
        "#convert hex to bytes\n",
        "\n",
        "hexstring = '63727970746f7b596f755f77696c6c5f62655f776f726b696e675f776974685f6865785f737472696e67735f615f6c6f747d' \n",
        "\n",
        "print(\"The bytes format of the hex string is\", bytes.fromhex(hexstring))"
      ],
      "metadata": {
        "colab": {
          "base_uri": "https://localhost:8080/"
        },
        "id": "aFy9rjihq8By",
        "outputId": "741c179d-3e15-434a-9fc8-2fa8d2bc59a7"
      },
      "execution_count": 5,
      "outputs": [
        {
          "output_type": "stream",
          "name": "stdout",
          "text": [
            "The bytes format of the hex string is b'crypto{You_will_be_working_with_hex_strings_a_lot}'\n"
          ]
        }
      ]
    },
    {
      "cell_type": "code",
      "source": [
        "#decode to bytes\n",
        "\n",
        "myhexstring = '72bca9b68fc16ac7beeb8f849dca1d8a783e8acf9679bf9269f7bf'\n",
        "bytesstring = bytes.fromhex(myhexstring)\n",
        "\n",
        "#encode bytes to Base64\n",
        "import base64\n",
        "\n",
        "print(\"The Base64 format is\", base64.b64encode(bytesstring))"
      ],
      "metadata": {
        "colab": {
          "base_uri": "https://localhost:8080/"
        },
        "id": "fY1MvMfmt4uq",
        "outputId": "1c2af439-35b6-4783-f6fb-dc9f9509dac0"
      },
      "execution_count": 6,
      "outputs": [
        {
          "output_type": "stream",
          "name": "stdout",
          "text": [
            "The Base64 format is b'crypto/Base+64+Encoding+is+Web+Safe/'\n"
          ]
        }
      ]
    }
  ]
}