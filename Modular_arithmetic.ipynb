{
  "nbformat": 4,
  "nbformat_minor": 0,
  "metadata": {
    "colab": {
      "provenance": [],
      "authorship_tag": "ABX9TyMpfJWQ61Qo8EuMWfv4uPLs",
      "include_colab_link": true
    },
    "kernelspec": {
      "name": "python3",
      "display_name": "Python 3"
    },
    "language_info": {
      "name": "python"
    }
  },
  "cells": [
    {
      "cell_type": "markdown",
      "metadata": {
        "id": "view-in-github",
        "colab_type": "text"
      },
      "source": [
        "<a href=\"https://colab.research.google.com/github/olivemideva/python_scripts/blob/main/Modular_arithmetic.ipynb\" target=\"_parent\"><img src=\"https://colab.research.google.com/assets/colab-badge.svg\" alt=\"Open In Colab\"/></a>"
      ]
    },
    {
      "cell_type": "code",
      "execution_count": 3,
      "metadata": {
        "colab": {
          "base_uri": "https://localhost:8080/"
        },
        "id": "MkwXvOAoqLwF",
        "outputId": "b7562dd1-d1a6-4c92-8469-7d8d4ad5132a"
      },
      "outputs": [
        {
          "output_type": "stream",
          "name": "stdout",
          "text": [
            "The GCD is : 1512\n"
          ]
        },
        {
          "output_type": "execute_result",
          "data": {
            "text/plain": [
              "1512"
            ]
          },
          "metadata": {},
          "execution_count": 3
        }
      ],
      "source": [
        "# calculate GCD of huge numbers\n",
        "def euclid_gcd(x, y):\n",
        "    if x < y:\n",
        "        return euclid_gcd(y, x)\n",
        "\n",
        "    while y != 0:\n",
        "        (x, y) = (y, x % y)\n",
        "\n",
        "    print(\"The GCD is : {}\".format(x))\n",
        "    return x\n",
        "\n",
        "a = 66528\n",
        "b = 52920\n",
        "\n",
        "euclid_gcd(a, b)"
      ]
    },
    {
      "cell_type": "code",
      "source": [
        "# Find the two integers i.e u,v and the GCD to the two prime numbers given\n",
        "# p * u + q * v = gcd(p,q)\n",
        "def extended_gcd(p,q):\n",
        "    if p == 0:\n",
        "        return (q, 0, 1)\n",
        "    else:\n",
        "        (gcd, u, v) = extended_gcd(q % p, p)\n",
        "        return (gcd, v - (q // p) * u, u)\n",
        "\n",
        "p = 26513\n",
        "q = 32321\n",
        "\n",
        "gcd, u, v = extended_gcd(p, q)\n",
        "print(\"The GCD is : {}\".format(gcd))\n",
        "print(\"Values of u,v are : {},{}\".format(u,v))\n",
        "print(\"The FLAG is: crypto{{{},{}}}\".format(u,v))"
      ],
      "metadata": {
        "colab": {
          "base_uri": "https://localhost:8080/"
        },
        "id": "tP0yE_nytAU5",
        "outputId": "409df501-5163-49d2-8228-d67839746681"
      },
      "execution_count": 6,
      "outputs": [
        {
          "output_type": "stream",
          "name": "stdout",
          "text": [
            "The GCD is : 1\n",
            "Values of u,v are : 10245,-8404\n",
            "The FLAG is: crypto{10245,-8404}\n"
          ]
        }
      ]
    },
    {
      "cell_type": "code",
      "source": [
        "# calculate the following integers\n",
        "# 11 ≡ x mod 6\n",
        "# 8146798528947 ≡ y mod 17\n"
      ],
      "metadata": {
        "id": "JO3qlQ7Avw5F"
      },
      "execution_count": null,
      "outputs": []
    }
  ]
}